{
 "cells": [
  {
   "cell_type": "markdown",
   "metadata": {},
   "source": [
    "（1）ortools结果转为自己的表示，类似于output里写的东西\n",
    "\n",
    "（2）评估解（用一个类描述VRP问题）\n",
    "\n",
    "（3）定义扰动\n",
    "\n",
    "（4）模拟退火（或其他元启发式）"
   ]
  },
  {
   "cell_type": "code",
   "execution_count": null,
   "metadata": {},
   "outputs": [],
   "source": [
    "solution_code=[[]]#[[15,3,8,0,6,5,11,4,0,...],...,[0,0,5,3,0,1,0,0]，用0分割不同车，按下标排序;最后一趟可能有很多0"
   ]
  },
  {
   "cell_type": "code",
   "execution_count": null,
   "metadata": {},
   "outputs": [],
   "source": [
    "def exchangesolution():\n",
    "    '''输入ortools的solution,返回我们定义的solution_code'''"
   ]
  },
  {
   "cell_type": "code",
   "execution_count": null,
   "metadata": {},
   "outputs": [],
   "source": [
    "class VRP():\n",
    "    def __init__(self,nodes,vehicles):\n",
    "        self.nodes\n",
    "        \n",
    "        \n",
    "    def evaluate(self,solution):\n",
    "        '''\n",
    "        输入solution_code,返回目标函数值，\n",
    "        现在目标是总距离，返回总距离'''\n",
    "        return total_dist\n",
    "    \n",
    "    def check_constraint(self,solution):\n",
    "        '''输入solution_code,返回bool变量，判断解是否满足约束'''\n",
    "        return True #/False\n",
    "    \n",
    "    def get_result(self,solution):\n",
    "        '''输入solution_code,和其他需要的信息,返回满足json格式的dict变量，最后有空再写'''\n",
    "        \n",
    "        return result\n",
    "        "
   ]
  },
  {
   "cell_type": "code",
   "execution_count": null,
   "metadata": {},
   "outputs": [],
   "source": [
    "def ls_swap(solution):\n",
    "    #交换\n",
    "    return new_solution\n"
   ]
  },
  {
   "cell_type": "code",
   "execution_count": null,
   "metadata": {},
   "outputs": [],
   "source": [
    "def sa(initials,tmin=0.05,t=35,alpha=0.94,beta):\n",
    "    '''模拟退火，以前我写过，我找一下。\n",
    "    initials:初始solution_code'''\n",
    "    ini_fun = vrp.evaluate(initials)\n",
    "    best_fun = ini_fun\n",
    "    best_code = initials\n",
    "    solution = initials\n",
    "    while t > tmin:\n",
    "        fun = vrp.evaluate(solution)\n",
    "        if de > 0 & (np.random.rand() > np.exp(-de / (t * k))):\n",
    "            solution=new_solution\n",
    "            \n",
    "        k = self.connect_matrix.sum()\n",
    "        for i in range(5 + self.num_hidden_node):\n",
    "            for j in range(self.num_hidden_node + 1):\n",
    "                if self.connect_matrix[i, j] != 0:\n",
    "                    weight = self.weight_matrix[i, j]\n",
    "                    # self.weight_matrix[i, j] = self.weight_matrix[i, j] + random.randrange(-20, 20)\n",
    "                    self.weight_matrix[i, j] = random.randrange(-100, 100)\n",
    "                    new_error = self.get_error()\n",
    "                    de = new_error - error\n",
    "                    if de > 0 & (np.random.rand() > np.exp(-de / (t * k))):\n",
    "                        self.weight_matrix[i, j] = weight\n",
    "                    else:\n",
    "                        error = new_error\n",
    "                        if error < best_error:\n",
    "                            best_error = error\n",
    "                            best_weight = self.weight_matrix.copy()\n",
    "                            best_bias = self.bias.copy()\n",
    "                    k -= 1\n",
    "        k = self.hidden_node.sum()+1\n",
    "        for j in range(self.num_hidden_node):\n",
    "            if self.hidden_node[j] != 0:\n",
    "                bias = self.bias[j]\n",
    "                # self.bias[j] += random.randrange(-20, 20)\n",
    "                self.bias[j] = random.randrange(-100, 100)\n",
    "                new_error = self.get_error()\n",
    "                de = new_error - error\n",
    "                if de > 0 & (np.random.rand() > np.exp(-de / t * k)):\n",
    "                    self.bias[j] = bias\n",
    "                else:\n",
    "                    error = new_error\n",
    "                    if error < best_error:\n",
    "                        best_error = error\n",
    "                        best_weight = self.weight_matrix.copy()\n",
    "                        best_bias = self.bias.copy()\n",
    "                k -= 1\n",
    "        t = t * alpha\n",
    "       # print(error)\n",
    "    if error > best_error:\n",
    "        self.weight_matrix = best_weight.copy()\n",
    "        self.bias = best_bias.copy()\n",
    "    if ini_error - best_error > 2:\n",
    "        self.success = True\n",
    "    else:\n",
    "        self.success = False\n",
    "    self.get_error()"
   ]
  }
 ],
 "metadata": {
  "kernelspec": {
   "display_name": "Python 3",
   "language": "python",
   "name": "python3"
  },
  "language_info": {
   "codemirror_mode": {
    "name": "ipython",
    "version": 3
   },
   "file_extension": ".py",
   "mimetype": "text/x-python",
   "name": "python",
   "nbconvert_exporter": "python",
   "pygments_lexer": "ipython3",
   "version": "3.7.6"
  }
 },
 "nbformat": 4,
 "nbformat_minor": 4
}
